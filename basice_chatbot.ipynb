{
  "nbformat": 4,
  "nbformat_minor": 0,
  "metadata": {
    "colab": {
      "provenance": [],
      "gpuType": "T4",
      "collapsed_sections": [
        "VJr-XFZu3eZL",
        "ElI7C3-0pDqJ",
        "cgTD0UN53ZTw"
      ],
      "authorship_tag": "ABX9TyOF8dIA0qK6lze9NZ77C/e7",
      "include_colab_link": true
    },
    "kernelspec": {
      "name": "python3",
      "display_name": "Python 3"
    },
    "language_info": {
      "name": "python"
    }
  },
  "cells": [
    {
      "cell_type": "markdown",
      "metadata": {
        "id": "view-in-github",
        "colab_type": "text"
      },
      "source": [
        "<a href=\"https://colab.research.google.com/github/Wxtar777/codealpha_basic_chatbot/blob/main/basice_chatbot.ipynb\" target=\"_parent\"><img src=\"https://colab.research.google.com/assets/colab-badge.svg\" alt=\"Open In Colab\"/></a>"
      ]
    },
    {
      "cell_type": "markdown",
      "source": [
        "# Data"
      ],
      "metadata": {
        "id": "VJr-XFZu3eZL"
      }
    },
    {
      "cell_type": "code",
      "execution_count": null,
      "metadata": {
        "id": "shpTvyXH6N_E"
      },
      "outputs": [],
      "source": [
        "import numpy as np\n",
        "import tensorflow as tf\n",
        "import tensorflow as tf\n",
        "from tensorflow.keras.models import Sequential\n",
        "from tensorflow.keras.layers import Dense\n",
        "import pickle\n",
        "import random\n",
        "import nltk\n",
        "import json\n",
        "from nltk.stem.lancaster import LancasterStemmer"
      ]
    },
    {
      "cell_type": "code",
      "source": [
        "lematizer = nltk.stem.WordNetLemmatizer()"
      ],
      "metadata": {
        "id": "rroPlMnMBK-8"
      },
      "execution_count": null,
      "outputs": []
    },
    {
      "cell_type": "code",
      "source": [
        "nltk.download('punkt')"
      ],
      "metadata": {
        "colab": {
          "base_uri": "https://localhost:8080/"
        },
        "id": "dIl7jV8WXAas",
        "outputId": "ae80cdec-e5c0-46d6-ac73-2153ba30ecf7"
      },
      "execution_count": null,
      "outputs": [
        {
          "output_type": "stream",
          "name": "stderr",
          "text": [
            "[nltk_data] Downloading package punkt to /root/nltk_data...\n",
            "[nltk_data]   Unzipping tokenizers/punkt.zip.\n"
          ]
        },
        {
          "output_type": "execute_result",
          "data": {
            "text/plain": [
              "True"
            ]
          },
          "metadata": {},
          "execution_count": 11
        }
      ]
    },
    {
      "cell_type": "code",
      "source": [
        "with open('intents.json') as json_data:\n",
        "    intents1 = json.load(json_data)"
      ],
      "metadata": {
        "id": "CjNXFr_8VDzG"
      },
      "execution_count": null,
      "outputs": []
    },
    {
      "cell_type": "code",
      "source": [
        "words = []\n",
        "classes = []\n",
        "documents = []\n",
        "ignore_words = ['?']\n",
        "\n",
        "for intent in intents1['intents']:\n",
        "    for pattern in intent['patterns']:\n",
        "        w = nltk.word_tokenize(pattern)\n",
        "        words.extend(w)\n",
        "        documents.append((w, intent['tag']))\n",
        "\n",
        "        if intent['tag'] not in classes:\n",
        "            classes.append(intent['tag'])\n",
        "\n",
        "words = [lematizer.lemmatize(w.lower()) for w in words if w not in ignore_words]\n",
        "words = sorted(list(set(words)))\n",
        "classes = sorted(list(set(classes)))"
      ],
      "metadata": {
        "id": "4lAqntgy60Kr"
      },
      "execution_count": null,
      "outputs": []
    },
    {
      "cell_type": "code",
      "source": [
        "pickle.dump(words, open('words.pkl', 'wb'))\n",
        "pickle.dump(classes, open('classes.pkl', 'wb'))"
      ],
      "metadata": {
        "id": "JKnr9W-0fCV4"
      },
      "execution_count": null,
      "outputs": []
    },
    {
      "cell_type": "code",
      "source": [
        "training = []\n",
        "output_empty = [0] * len(classes)\n",
        "\n",
        "for doc in documents:\n",
        "    bag = []\n",
        "    pattern_words = doc[0] # targets\n",
        "    pattern_words = [lematizer.lemmatize(word.lower()) for word in pattern_words]\n",
        "    for w in words:\n",
        "        bag.append(1) if w in pattern_words else bag.append(0)\n",
        "\n",
        "    output_row = list(output_empty)\n",
        "    output_row[classes.index(doc[1])] = 1\n",
        "\n",
        "    training.append([bag, output_row])\n",
        "\n",
        "#random.shuffle(training)\n",
        "\n",
        "training = np.array(training, dtype=\"object\")\n",
        "\n",
        "x_train = list(training[:,0])\n",
        "y_train = list(training[:,1])\n",
        "x_train = np.array(x_train)\n",
        "y_train = np.array(y_train)"
      ],
      "metadata": {
        "collapsed": true,
        "id": "UK7moghQWYzy"
      },
      "execution_count": null,
      "outputs": []
    },
    {
      "cell_type": "markdown",
      "source": [
        "# training"
      ],
      "metadata": {
        "id": "ElI7C3-0pDqJ"
      }
    },
    {
      "cell_type": "code",
      "source": [
        "input_shape = (len(x_train[0]),)\n",
        "output_shape = len(y_train[0])\n",
        "\n",
        "# Create the model\n",
        "model = Sequential()\n",
        "model.add(Dense(16, input_shape=input_shape, activation='relu'))\n",
        "model.add(Dense(8, activation='relu'))\n",
        "model.add(Dense(output_shape, activation='softmax'))"
      ],
      "metadata": {
        "id": "ABs4su-qfWN5"
      },
      "execution_count": null,
      "outputs": []
    },
    {
      "cell_type": "code",
      "source": [
        "model.compile(optimizer=tf.keras.optimizers.Adam(), loss='categorical_crossentropy', metrics=['accuracy'])"
      ],
      "metadata": {
        "id": "KXGD4ZXMklrE"
      },
      "execution_count": null,
      "outputs": []
    },
    {
      "cell_type": "code",
      "source": [
        "hist = model.fit(x_train, y_train, epochs=300)"
      ],
      "metadata": {
        "id": "19cDqyikk4_p"
      },
      "execution_count": null,
      "outputs": []
    },
    {
      "cell_type": "code",
      "source": [
        "model.save('chatbot_model.keras', hist)"
      ],
      "metadata": {
        "id": "aKXXfinxfNk2"
      },
      "execution_count": null,
      "outputs": []
    },
    {
      "cell_type": "markdown",
      "source": [
        "# building the chatbot"
      ],
      "metadata": {
        "id": "cgTD0UN53ZTw"
      }
    },
    {
      "cell_type": "code",
      "source": [
        "nltk.download('wordnet')"
      ],
      "metadata": {
        "id": "sScJW1mE5SiA"
      },
      "execution_count": null,
      "outputs": []
    },
    {
      "cell_type": "code",
      "source": [
        "lem = nltk.stem.WordNetLemmatizer()"
      ],
      "metadata": {
        "id": "sfTBKJAy2zuZ"
      },
      "execution_count": null,
      "outputs": []
    },
    {
      "cell_type": "code",
      "source": [
        "intents = json.loads(open('intents.json').read())\n",
        "words = pickle.load(open('words.pkl', 'rb'))\n",
        "classes = pickle.load(open('classes.pkl', 'rb'))\n",
        "model = tf.keras.models.load_model('chatbot_model.keras')"
      ],
      "metadata": {
        "id": "_yvZKtFL3xch"
      },
      "execution_count": null,
      "outputs": []
    },
    {
      "cell_type": "code",
      "source": [
        "nltk.download('averaged_perceptron_tagger')"
      ],
      "metadata": {
        "id": "qm8q6JtyVIcF"
      },
      "execution_count": null,
      "outputs": []
    },
    {
      "cell_type": "code",
      "source": [
        "def clean_sentence(sentence):\n",
        "    tokenized_sentence = nltk.word_tokenize(sentence)\n",
        "    post_taged_sentence = nltk.pos_tag(tokenized_sentence)\n",
        "    output = []\n",
        "    for word, tag in post_taged_sentence:\n",
        "        wntag = tag[0].lower()\n",
        "        wntag = wntag if wntag in ['a', 'r', 'n', 'v'] else None\n",
        "        if not wntag:\n",
        "             lemma = word\n",
        "        else:\n",
        "             lemma = lem.lemmatize(word, wntag)\n",
        "        output.append(lemma)\n",
        "    return output\n"
      ],
      "metadata": {
        "id": "BR03UdQc6KT1"
      },
      "execution_count": null,
      "outputs": []
    },
    {
      "cell_type": "code",
      "source": [
        "def bag_of_words(sentence):\n",
        "    sentence = clean_sentence(sentence)\n",
        "    bag = [0] * len(words)\n",
        "\n",
        "    for i in sentence:\n",
        "        for j, word in enumerate(words):\n",
        "            if word == i:\n",
        "                bag[j] = 1\n",
        "    return bag"
      ],
      "metadata": {
        "id": "Lv-44WJ6kc-v"
      },
      "execution_count": null,
      "outputs": []
    },
    {
      "cell_type": "code",
      "source": [
        "def predict(sentence):\n",
        "   sentence_bag_of_words = bag_of_words(sentence)\n",
        "   prediction = model.predict(np.array([sentence_bag_of_words]))[0]\n",
        "\n",
        "   result = [[i, r] for i, r in enumerate(prediction) if r > 0.25]\n",
        "\n",
        "   result.sort(key=lambda x: x[1], reverse=True)\n",
        "   return_list = []\n",
        "   for r in result:\n",
        "       return_list.append({'intent': classes[r[0]], 'probability': str(r[1])})\n",
        "   return return_list"
      ],
      "metadata": {
        "id": "pQmahPT4If2L"
      },
      "execution_count": null,
      "outputs": []
    },
    {
      "cell_type": "code",
      "source": [
        "def response(intents, intents_json):\n",
        "    tag = intents[0]['intent']\n",
        "    list_of_intents = intents_json['intents']\n",
        "\n",
        "    for i in list_of_intents:\n",
        "        if i['tag'] == tag:\n",
        "            result = random.choice(i['responses'])\n",
        "            break\n",
        "    return result"
      ],
      "metadata": {
        "id": "nzJoihPNgxMl"
      },
      "execution_count": null,
      "outputs": []
    },
    {
      "cell_type": "code",
      "source": [
        "while True:\n",
        "    inp = input(\"You: \")\n",
        "    if inp.lower() == \"quit\":\n",
        "        break\n",
        "\n",
        "    result = predict(inp)\n",
        "    print(\"Bot: \", end=\"\")\n",
        "    print(response(result, intents))\n",
        "    if result[0]['intent'] == 'goodbye':\n",
        "        break\n"
      ],
      "metadata": {
        "collapsed": true,
        "id": "__1RMrlXKgk2"
      },
      "execution_count": null,
      "outputs": []
    },
    {
      "cell_type": "code",
      "source": [
        "predict(\"hi\")"
      ],
      "metadata": {
        "id": "Tm0c5da8b2oE"
      },
      "execution_count": null,
      "outputs": []
    },
    {
      "cell_type": "code",
      "source": [],
      "metadata": {
        "id": "lXxv_nDYiGcu"
      },
      "execution_count": null,
      "outputs": []
    }
  ]
}